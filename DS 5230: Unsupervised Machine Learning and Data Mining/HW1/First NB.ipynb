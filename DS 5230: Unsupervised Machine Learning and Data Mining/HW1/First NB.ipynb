{
 "cells": [
  {
   "cell_type": "code",
   "execution_count": 1,
   "id": "a2761773-3614-4fde-9b3b-fb4573b4658a",
   "metadata": {
    "ExecuteTime": {
     "end_time": "2025-01-09T22:18:39.105162Z",
     "start_time": "2025-01-09T22:18:39.102319Z"
    }
   },
   "outputs": [
    {
     "name": "stdout",
     "output_type": "stream",
     "text": [
      "/Users/shane/Development/grad-school/Test Folder\n",
      "yo\n"
     ]
    }
   ],
   "source": [
    "import os\n",
    "\n",
    "print(os.getcwd())\n",
    "print(\"yo\")\n",
    " # Problem 4"
   ]
  },
  {
   "cell_type": "code",
   "execution_count": 19,
   "id": "45341e31-ddf0-41bc-a09c-c48e905d123f",
   "metadata": {
    "ExecuteTime": {
     "end_time": "2025-01-09T22:32:42.041806Z",
     "start_time": "2025-01-09T22:32:42.034838Z"
    }
   },
   "outputs": [
    {
     "name": "stdout",
     "output_type": "stream",
     "text": [
      "2.2.3\n"
     ]
    }
   ],
   "source": [
    "import pandas as pd\n",
    "print(pd.__version__)\n",
    "# df = pd.read_csv('acm.txt', sep='#*')\n",
    "# print(df)"
   ]
  },
  {
   "cell_type": "code",
   "execution_count": 3,
   "id": "8c0d03cb-e28d-4fb6-8b75-b49cffae7130",
   "metadata": {
    "ExecuteTime": {
     "end_time": "2025-01-09T20:31:19.349724Z",
     "start_time": "2025-01-09T20:31:19.345373Z"
    }
   },
   "outputs": [
    {
     "name": "stdout",
     "output_type": "stream",
     "text": [
      "test\n",
      "110\n"
     ]
    }
   ],
   "source": [
    "print(\"test\")\n",
    "\n",
    "\n",
    "x = 110\n",
    "print(x)\n"
   ]
  },
  {
   "cell_type": "code",
   "execution_count": 5,
   "id": "b67b3c6513bfa52",
   "metadata": {
    "ExecuteTime": {
     "end_time": "2025-01-09T21:54:43.211305Z",
     "start_time": "2025-01-09T21:54:43.200203Z"
    }
   },
   "outputs": [
    {
     "name": "stdout",
     "output_type": "stream",
     "text": [
      "test2\n"
     ]
    }
   ],
   "source": [
    "print(\"test2\")"
   ]
  }
 ],
 "metadata": {
  "kernelspec": {
   "display_name": "Python 3",
   "language": "python",
   "name": "python3"
  },
  "language_info": {
   "codemirror_mode": {
    "name": "ipython",
    "version": 3
   },
   "file_extension": ".py",
   "mimetype": "text/x-python",
   "name": "python",
   "nbconvert_exporter": "python",
   "pygments_lexer": "ipython3",
   "version": "3.8.16"
  }
 },
 "nbformat": 4,
 "nbformat_minor": 5
}
