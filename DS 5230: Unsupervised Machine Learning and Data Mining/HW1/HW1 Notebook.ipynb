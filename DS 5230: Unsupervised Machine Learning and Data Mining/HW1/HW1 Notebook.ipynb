{
 "cells": [
  {
   "cell_type": "code",
   "execution_count": null,
   "id": "45341e31-ddf0-41bc-a09c-c48e905d123f",
   "metadata": {},
   "outputs": [],
   "source": [
    "import pandas as pd\n",
    "\n",
    "# Start of the program, reading the txt file\n",
    "with open('Data Sets/acm.txt', 'r') as f:\n",
    "    data = f.read()\n",
    "\n",
    "# Here is the format that is used for this dataset - https://www.aminer.cn/citation\n",
    "#* --- paperTitle\n",
    "#@ --- Authors\n",
    "#t ---- Year\n",
    "#c  --- publication venue\n",
    "#index 00---- index id of this paper\n",
    "#% ---- the id of references of this paper (there are multiple lines, with each indicating a reference)\n",
    "#! --- Abstract\n",
    "\n",
    "\n",
    "# First step is to break down the text into rows for each book\n",
    "books = data.split(\"\\n\\n\")\n",
    "\n",
    "print(books)\n",
    "\n",
    "# # Parse data into a list of dictionaries\n",
    "# parsed_data = []\n",
    "# for book in books:\n",
    "#     paper = {}\n",
    "#     attributes = book.split(\"\\n\")\n",
    "#     for attribute in attributes:\n",
    "#         if attribute.startswith(\"#*\"):\n",
    "#             paper[\"paperTitle\"] = attribute[2:].strip()\n",
    "#         elif attribute.startswith(\"#@\"):\n",
    "#             paper[\"Authors\"] = attribute[2:].strip()\n",
    "#         elif attribute.startswith(\"#t\"):\n",
    "#             paper[\"Year\"] = attribute[2:].strip()\n",
    "#         elif attribute.startswith(\"#c\"):\n",
    "#             paper[\"publicationVenue\"] = attribute[2:].strip()\n",
    "#         elif attribute.startswith(\"#index\"):\n",
    "#             paper[\"Index\"] = attribute[6:].strip()\n",
    "#         elif attribute.startswith(\"#!\"):\n",
    "#             paper[\"Abstract\"] = attribute[2:].strip()\n",
    "#         elif attribute.startswith(\"#%\"):\n",
    "#             paper.setdefault(\"referenceIDs\", []).append(attribute[2:].strip())\n",
    "        \n",
    "#     # Flatten references if they exist\n",
    "#     if \"referenceIDs\" in paper:\n",
    "#         paper[\"referenceIDs\"] = \", \".join(paper[\"referenceIDs\"])\n",
    "#     parsed_data.append(paper)\n",
    "\n",
    "# # Create DataFrame\n",
    "# df = pd.DataFrame(parsed_data)"
   ]
  },
  {
   "cell_type": "code",
   "execution_count": null,
   "id": "fa9c6e9f-fa04-468b-bbc2-3fca3313b1ee",
   "metadata": {},
   "outputs": [],
   "source": [
    "# Problem A\n",
    "# unique_nums = df.nunique()\n",
    "# print(unique_nums)\n",
    "\n",
    "# unique_values = df['publicationVenue'].unique()\n",
    "# print(unique_values)\n",
    "\n",
    "# There are 97 distinct authors, 45 unique publication venues, 102 unique publications, and 9 unique citations."
   ]
  },
  {
   "cell_type": "code",
   "execution_count": null,
   "id": "ba81a614-58d2-43f7-b2ba-461fc397438d",
   "metadata": {},
   "outputs": [],
   "source": []
  },
  {
   "cell_type": "code",
   "execution_count": null,
   "id": "b72aeb39-7da4-4217-9e72-a8d56c8537f0",
   "metadata": {},
   "outputs": [],
   "source": []
  }
 ],
 "metadata": {
  "kernelspec": {
   "display_name": "Python 3 (ipykernel)",
   "language": "python",
   "name": "python3"
  },
  "language_info": {
   "codemirror_mode": {
    "name": "ipython",
    "version": 3
   },
   "file_extension": ".py",
   "mimetype": "text/x-python",
   "name": "python",
   "nbconvert_exporter": "python",
   "pygments_lexer": "ipython3",
   "version": "3.8.16"
  }
 },
 "nbformat": 4,
 "nbformat_minor": 5
}
